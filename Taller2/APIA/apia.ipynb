{
 "cells": [
  {
   "cell_type": "code",
   "execution_count": 1,
   "metadata": {
    "colab": {
     "base_uri": "https://localhost:8080/",
     "height": 519
    },
    "executionInfo": {
     "elapsed": 1740,
     "status": "error",
     "timestamp": 1678328741345,
     "user": {
      "displayName": "Alexander Luna",
      "userId": "00007086188915596657"
     },
     "user_tz": 300
    },
    "id": "hQIxkt79dH4Y",
    "outputId": "4be02022-b2f4-4167-c6ed-05d9de3cbef1",
    "tags": []
   },
   "outputs": [
    {
     "name": "stdout",
     "output_type": "stream",
     "text": [
      "   Elevation  Aspect  Slope  Horizontal_Distance_To_Hydrology  \\\n",
      "0       2991     119      7                                67   \n",
      "1       2876       3     18                               485   \n",
      "2       3171     315      2                               277   \n",
      "3       3087     342     13                               190   \n",
      "4       2835     158     10                               212   \n",
      "\n",
      "   Vertical_Distance_To_Hydrology  Horizontal_Distance_To_Roadways  \\\n",
      "0                              11                             1015   \n",
      "1                              71                             2495   \n",
      "2                               9                             4374   \n",
      "3                              31                             4774   \n",
      "4                              41                             3596   \n",
      "\n",
      "   Hillshade_9am  Hillshade_Noon  Hillshade_3pm  \\\n",
      "0            233             234            133   \n",
      "1            192             202            144   \n",
      "2            213             237            162   \n",
      "3            193             221            166   \n",
      "4            231             242            141   \n",
      "\n",
      "   Horizontal_Distance_To_Fire_Points Wilderness_Area Soil_Type  Cover_Type  \n",
      "0                                1570       Commanche     C7202           1  \n",
      "1                                1557       Commanche     C7757           1  \n",
      "2                                1052           Rawah     C7745           0  \n",
      "3                                 752           Rawah     C7745           0  \n",
      "4                                3280           Rawah     C4744           1  \n"
     ]
    }
   ],
   "source": [
    "import pandas as pd\n",
    "import requests\n",
    "import os\n",
    "## download the dataset\n",
    "# Directory of the raw data files\n",
    "_data_root = './data/covertype'\n",
    "# Path to the raw training data\n",
    "_data_filepath = os.path.join(_data_root, 'covertype_train.csv')\n",
    "# Download data\n",
    "os.makedirs(_data_root, exist_ok=True)\n",
    "if not os.path.isfile(_data_filepath):\n",
    "    #https://archive.ics.uci.edu/ml/machine-learning-databases/covtype/\n",
    "    url = 'https://docs.google.com/uc?export= \\\n",
    "    download&confirm={{VALUE}}&id=1lVF1BCWLH4eXXV_YOJzjR7xZjj-wAGj9'\n",
    "    r = requests.get(url, allow_redirects=True, stream=True)\n",
    "    open(_data_filepath, 'wb').write(r.content)\n",
    "\n",
    "# Definir las rutas a los datos\n",
    "_data_root = './data/covertype'\n",
    "_data_filepath = os.path.join(_data_root, 'covertype_train.csv')\n",
    "\n",
    "# Leer el archivo CSV en un DataFrame\n",
    "df = pd.read_csv(_data_filepath)\n",
    "\n",
    "# Inspeccionar el DataFrame\n",
    "print(df.head())"
   ]
  },
  {
   "cell_type": "code",
   "execution_count": 4,
   "metadata": {
    "tags": []
   },
   "outputs": [],
   "source": [
    "import mysql.connector"
   ]
  },
  {
   "cell_type": "code",
   "execution_count": 11,
   "metadata": {},
   "outputs": [],
   "source": [
    "MYSQL_USER = os.getenv(\"MYSQL_USER\", \"root\")\n",
    "MYSQL_PASSWORD = os.getenv(\"MYSQL_PASSWORD\", \"123456\")\n",
    "MYSQL_HOST = os.getenv(\"MYSQL_HOST\", \"estudiante_xdb_1\")\n",
    "MYSQL_DATABASE = os.getenv(\"MYSQL_DATABASE\", \"xdb\")\n",
    "MYSQL_PORT = os.getenv(\"MYSQL_PORT\", \"3306\")\n",
    "\n",
    "db = mysql.connector.connect(\n",
    "    host=\"685c5e9f3a7c\",\n",
    "    user=\"root\",\n",
    "    password=\"123456\",\n",
    "    database=\"xdb\",\n",
    "    port=\"3306\"\n",
    ")\n"
   ]
  },
  {
   "cell_type": "code",
   "execution_count": null,
   "metadata": {},
   "outputs": [],
   "source": []
  }
 ],
 "metadata": {
  "accelerator": "TPU",
  "colab": {
   "authorship_tag": "ABX9TyO6xkVlvkY293KX+hADNxfD",
   "provenance": []
  },
  "gpuClass": "standard",
  "kernelspec": {
   "display_name": "Python 3 (ipykernel)",
   "language": "python",
   "name": "python3"
  },
  "language_info": {
   "codemirror_mode": {
    "name": "ipython",
    "version": 3
   },
   "file_extension": ".py",
   "mimetype": "text/x-python",
   "name": "python",
   "nbconvert_exporter": "python",
   "pygments_lexer": "ipython3",
   "version": "3.9.16"
  }
 },
 "nbformat": 4,
 "nbformat_minor": 4
}
